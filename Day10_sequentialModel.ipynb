{
  "cells": [
    {
      "cell_type": "markdown",
      "metadata": {
        "id": "view-in-github",
        "colab_type": "text"
      },
      "source": [
        "<a href=\"https://colab.research.google.com/github/Krit-Barnwal/Summer-Ai-Ml/blob/main/Day10_sequentialModel.ipynb\" target=\"_parent\"><img src=\"https://colab.research.google.com/assets/colab-badge.svg\" alt=\"Open In Colab\"/></a>"
      ]
    },
    {
      "cell_type": "code",
      "execution_count": null,
      "metadata": {
        "id": "uvq3CzK7EOnq"
      },
      "outputs": [],
      "source": [
        "import pandas as pd\n",
        "import numpy as np\n",
        "from tensorflow import keras\n",
        "from tensorflow.keras import layers,models\n",
        "from tensorflow.keras.datasets import mnist\n"
      ]
    },
    {
      "cell_type": "code",
      "execution_count": null,
      "metadata": {
        "colab": {
          "base_uri": "https://localhost:8080/"
        },
        "id": "1WsXqPCFEu2a",
        "outputId": "591f6dc6-49a4-41db-d3af-4bad23f3542b"
      },
      "outputs": [
        {
          "name": "stdout",
          "output_type": "stream",
          "text": [
            "Downloading data from https://storage.googleapis.com/tensorflow/tf-keras-datasets/mnist.npz\n",
            "11490434/11490434 [==============================] - 0s 0us/step\n"
          ]
        }
      ],
      "source": [
        "(x_train, y_train), (x_test, y_test) = keras.datasets.mnist.load_data()\n",
        "# x_train = x_train/x_train.max()\n",
        "# x_test = x_test/x_test.max()\n"
      ]
    },
    {
      "cell_type": "code",
      "execution_count": null,
      "metadata": {
        "colab": {
          "base_uri": "https://localhost:8080/"
        },
        "id": "Zld5UewGFYdD",
        "outputId": "3875a236-0839-4ab7-8016-805dd1bce4f5"
      },
      "outputs": [
        {
          "name": "stdout",
          "output_type": "stream",
          "text": [
            "(60000, 28, 28) (60000,)\n",
            "(10000, 28, 28) (10000,)\n"
          ]
        }
      ],
      "source": [
        "print(x_train.shape,y_train.shape)\n",
        "print(x_test.shape,y_test.shape)"
      ]
    },
    {
      "cell_type": "code",
      "execution_count": null,
      "metadata": {
        "colab": {
          "background_save": true,
          "base_uri": "https://localhost:8080/"
        },
        "id": "C0UFGcSHFbwL",
        "outputId": "5ff59dc9-cff0-4c64-f518-429c21225318"
      },
      "outputs": [
        {
          "name": "stdout",
          "output_type": "stream",
          "text": [
            "Model: \"sequential_2\"\n",
            "_________________________________________________________________\n",
            " Layer (type)                Output Shape              Param #   \n",
            "=================================================================\n",
            " conv2d_4 (Conv2D)           (None, 26, 26, 10)        100       \n",
            "                                                                 \n",
            " max_pooling2d_4 (MaxPoolin  (None, 13, 13, 10)        0         \n",
            " g2D)                                                            \n",
            "                                                                 \n",
            " conv2d_5 (Conv2D)           (None, 11, 11, 50)        4550      \n",
            "                                                                 \n",
            " max_pooling2d_5 (MaxPoolin  (None, 5, 5, 50)          0         \n",
            " g2D)                                                            \n",
            "                                                                 \n",
            " flatten_2 (Flatten)         (None, 1250)              0         \n",
            "                                                                 \n",
            " dense_8 (Dense)             (None, 200)               250200    \n",
            "                                                                 \n",
            " dense_9 (Dense)             (None, 200)               40200     \n",
            "                                                                 \n",
            " dense_10 (Dense)            (None, 200)               40200     \n",
            "                                                                 \n",
            " dense_11 (Dense)            (None, 10)                2010      \n",
            "                                                                 \n",
            "=================================================================\n",
            "Total params: 337260 (1.29 MB)\n",
            "Trainable params: 337260 (1.29 MB)\n",
            "Non-trainable params: 0 (0.00 Byte)\n",
            "_________________________________________________________________\n",
            "Model: \"sequential_2\"\n",
            "_________________________________________________________________\n",
            " Layer (type)                Output Shape              Param #   \n",
            "=================================================================\n",
            " conv2d_4 (Conv2D)           (None, 26, 26, 10)        100       \n",
            "                                                                 \n",
            " max_pooling2d_4 (MaxPoolin  (None, 13, 13, 10)        0         \n",
            " g2D)                                                            \n",
            "                                                                 \n",
            " conv2d_5 (Conv2D)           (None, 11, 11, 50)        4550      \n",
            "                                                                 \n",
            " max_pooling2d_5 (MaxPoolin  (None, 5, 5, 50)          0         \n",
            " g2D)                                                            \n",
            "                                                                 \n",
            " flatten_2 (Flatten)         (None, 1250)              0         \n",
            "                                                                 \n",
            " dense_8 (Dense)             (None, 200)               250200    \n",
            "                                                                 \n",
            " dense_9 (Dense)             (None, 200)               40200     \n",
            "                                                                 \n",
            " dense_10 (Dense)            (None, 200)               40200     \n",
            "                                                                 \n",
            " dense_11 (Dense)            (None, 10)                2010      \n",
            "                                                                 \n",
            "=================================================================\n",
            "Total params: 337260 (1.29 MB)\n",
            "Trainable params: 337260 (1.29 MB)\n",
            "Non-trainable params: 0 (0.00 Byte)\n",
            "_________________________________________________________________\n"
          ]
        }
      ],
      "source": [
        "model = keras.models.Sequential()\n",
        "#conv layers\n",
        "model.add(layers.Conv2D(10, 3, activation='relu', input_shape=(28, 28,1)))\n",
        "model.add(layers.MaxPooling2D((2, 2)))\n",
        "model.add(layers.Conv2D(50, 3, activation='relu', input_shape=(28, 28,1)))\n",
        "model.add(layers.MaxPooling2D((2, 2)))\n",
        "\n",
        "model.add(keras.layers.Flatten()) # input layer\n",
        "#HIDEEN LAYERS\n",
        "model.add(keras.layers.Dense(200,activation='relu')) # HL1\n",
        "model.add(keras.layers.Dense(200,activation='relu')) # HL2\n",
        "model.add(keras.layers.Dense(200,activation='relu')) # HL3\n",
        "model.add(keras.layers.Dense(len(np.unique(y_train))))\n",
        "\n",
        "\n",
        "loss = keras.losses.SparseCategoricalCrossentropy(from_logits=True)\n",
        "model.compile(optimizer='sgd',loss = loss,metrics=['accuracy'])\n",
        "model.summary()\n",
        "\n",
        "\n",
        "\n",
        "\n",
        "\n",
        "\n",
        "# Compile the model with an appropriate optimizer, loss function, and metric\n",
        "model.compile(optimizer='adam', loss='sparse_categorical_crossentropy', metrics=['accuracy'])\n",
        "\n",
        "# Summary of the model\n",
        "model.summary()"
      ]
    },
    {
      "cell_type": "code",
      "execution_count": null,
      "metadata": {
        "colab": {
          "background_save": true,
          "base_uri": "https://localhost:8080/"
        },
        "id": "z0AMc2VmGkRb",
        "outputId": "50a19650-75ab-4493-ca0a-425615e545cf"
      },
      "outputs": [
        {
          "name": "stdout",
          "output_type": "stream",
          "text": [
            "Epoch 1/20\n",
            "1875/1875 [==============================] - 10s 4ms/step - loss: 12.4888 - accuracy: 0.1521 - val_loss: 12.5247 - val_accuracy: 0.1548\n",
            "Epoch 2/20\n",
            "1875/1875 [==============================] - 8s 4ms/step - loss: 12.5154 - accuracy: 0.1530 - val_loss: 12.5247 - val_accuracy: 0.1548\n",
            "Epoch 3/20\n",
            "1875/1875 [==============================] - 8s 4ms/step - loss: 12.5153 - accuracy: 0.1530 - val_loss: 12.5247 - val_accuracy: 0.1548\n",
            "Epoch 4/20\n",
            "1875/1875 [==============================] - 8s 4ms/step - loss: 12.5153 - accuracy: 0.1530 - val_loss: 12.5247 - val_accuracy: 0.1548\n",
            "Epoch 5/20\n",
            "1875/1875 [==============================] - 7s 4ms/step - loss: 12.5153 - accuracy: 0.1530 - val_loss: 12.5247 - val_accuracy: 0.1548\n",
            "Epoch 6/20\n",
            "1875/1875 [==============================] - 8s 4ms/step - loss: 12.5154 - accuracy: 0.1530 - val_loss: 12.5247 - val_accuracy: 0.1548\n",
            "Epoch 7/20\n",
            "1875/1875 [==============================] - 8s 4ms/step - loss: 12.5154 - accuracy: 0.1530 - val_loss: 12.5247 - val_accuracy: 0.1548\n",
            "Epoch 8/20\n",
            "1875/1875 [==============================] - 7s 4ms/step - loss: 12.5153 - accuracy: 0.1530 - val_loss: 12.5247 - val_accuracy: 0.1548\n",
            "Epoch 9/20\n",
            "1875/1875 [==============================] - 8s 4ms/step - loss: 12.5153 - accuracy: 0.1530 - val_loss: 12.5247 - val_accuracy: 0.1548\n",
            "Epoch 10/20\n",
            "1875/1875 [==============================] - 9s 5ms/step - loss: 12.5153 - accuracy: 0.1530 - val_loss: 12.5247 - val_accuracy: 0.1548\n",
            "Epoch 11/20\n",
            "1875/1875 [==============================] - 7s 4ms/step - loss: 12.5154 - accuracy: 0.1530 - val_loss: 12.5247 - val_accuracy: 0.1548\n",
            "Epoch 12/20\n",
            "1875/1875 [==============================] - 8s 4ms/step - loss: 12.5154 - accuracy: 0.1530 - val_loss: 12.5247 - val_accuracy: 0.1548\n",
            "Epoch 13/20\n",
            "1875/1875 [==============================] - 8s 4ms/step - loss: 12.5154 - accuracy: 0.1530 - val_loss: 12.5247 - val_accuracy: 0.1548\n",
            "Epoch 14/20\n",
            "1875/1875 [==============================] - 8s 4ms/step - loss: 12.5154 - accuracy: 0.1530 - val_loss: 12.5247 - val_accuracy: 0.1548\n",
            "Epoch 15/20\n",
            "1875/1875 [==============================] - 9s 5ms/step - loss: 12.5154 - accuracy: 0.1530 - val_loss: 12.5247 - val_accuracy: 0.1548\n",
            "Epoch 16/20\n",
            "1875/1875 [==============================] - 9s 5ms/step - loss: 12.5153 - accuracy: 0.1530 - val_loss: 12.5247 - val_accuracy: 0.1548\n",
            "Epoch 17/20\n",
            "1875/1875 [==============================] - 8s 4ms/step - loss: 12.5153 - accuracy: 0.1530 - val_loss: 12.5247 - val_accuracy: 0.1548\n",
            "Epoch 18/20\n",
            "1875/1875 [==============================] - 9s 5ms/step - loss: 12.5153 - accuracy: 0.1530 - val_loss: 12.5247 - val_accuracy: 0.1548\n",
            "Epoch 19/20\n",
            "1875/1875 [==============================] - 9s 5ms/step - loss: 12.5154 - accuracy: 0.1530 - val_loss: 12.5247 - val_accuracy: 0.1548\n",
            "Epoch 20/20\n",
            "1875/1875 [==============================] - 8s 4ms/step - loss: 12.5154 - accuracy: 0.1530 - val_loss: 12.5247 - val_accuracy: 0.1548\n"
          ]
        }
      ],
      "source": [
        "hist = model.fit(x_train,y_train,epochs = 20,validation_data = (x_test,y_test))"
      ]
    },
    {
      "cell_type": "code",
      "execution_count": null,
      "metadata": {
        "id": "kF8a67GOI84j"
      },
      "outputs": [],
      "source": []
    }
  ],
  "metadata": {
    "accelerator": "GPU",
    "colab": {
      "gpuType": "T4",
      "provenance": [],
      "authorship_tag": "ABX9TyPPH8JhglO8AmgOV8Dk1K93",
      "include_colab_link": true
    },
    "kernelspec": {
      "display_name": "Python 3",
      "name": "python3"
    },
    "language_info": {
      "name": "python"
    }
  },
  "nbformat": 4,
  "nbformat_minor": 0
}