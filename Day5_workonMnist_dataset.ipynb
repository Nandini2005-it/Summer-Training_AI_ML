{
  "nbformat": 4,
  "nbformat_minor": 0,
  "metadata": {
    "colab": {
      "provenance": [],
      "authorship_tag": "ABX9TyMmuLiGYphnRRATSFlX0P/f",
      "include_colab_link": true
    },
    "kernelspec": {
      "name": "python3",
      "display_name": "Python 3"
    },
    "language_info": {
      "name": "python"
    }
  },
  "cells": [
    {
      "cell_type": "markdown",
      "metadata": {
        "id": "view-in-github",
        "colab_type": "text"
      },
      "source": [
        "<a href=\"https://colab.research.google.com/github/Krit-Barnwal/Summer-Ai-Ml/blob/main/Day5_workonMnist_dataset.ipynb\" target=\"_parent\"><img src=\"https://colab.research.google.com/assets/colab-badge.svg\" alt=\"Open In Colab\"/></a>"
      ]
    },
    {
      "cell_type": "markdown",
      "source": [
        "# Considering mnist data (handwrittern numbers) each number of 28*28 pixel\n",
        "## First gotta convert it into 1d platern (28*28)\n",
        "## MODEL OF 60K examples where 10K example is for testing"
      ],
      "metadata": {
        "id": "Cs75HKrkmnOg"
      }
    },
    {
      "cell_type": "code",
      "execution_count": null,
      "metadata": {
        "id": "P8l9JI6WldIe"
      },
      "outputs": [],
      "source": [
        "from sklearn import datasets #import this to lord dataset\n",
        "from sklearn import svm #import the classification model\n",
        "from sklearn import model_selection # to load function for splitting data into train and test data\n",
        "from sklearn import metrics # to evaluate performance(recall and precision accuracy stuff) of model\n"
      ]
    },
    {
      "cell_type": "code",
      "source": [
        "#load dataset(digitdata)\n",
        "data = datasets.load_digits()\n",
        "print(data.DESCR)\n"
      ],
      "metadata": {
        "colab": {
          "base_uri": "https://localhost:8080/"
        },
        "id": "EmK5Gf2dlzP4",
        "outputId": "00c4a1db-2841-4509-fa7e-f990201097d4"
      },
      "execution_count": null,
      "outputs": [
        {
          "output_type": "stream",
          "name": "stdout",
          "text": [
            ".. _digits_dataset:\n",
            "\n",
            "Optical recognition of handwritten digits dataset\n",
            "--------------------------------------------------\n",
            "\n",
            "**Data Set Characteristics:**\n",
            "\n",
            "    :Number of Instances: 1797\n",
            "    :Number of Attributes: 64\n",
            "    :Attribute Information: 8x8 image of integer pixels in the range 0..16.\n",
            "    :Missing Attribute Values: None\n",
            "    :Creator: E. Alpaydin (alpaydin '@' boun.edu.tr)\n",
            "    :Date: July; 1998\n",
            "\n",
            "This is a copy of the test set of the UCI ML hand-written digits datasets\n",
            "https://archive.ics.uci.edu/ml/datasets/Optical+Recognition+of+Handwritten+Digits\n",
            "\n",
            "The data set contains images of hand-written digits: 10 classes where\n",
            "each class refers to a digit.\n",
            "\n",
            "Preprocessing programs made available by NIST were used to extract\n",
            "normalized bitmaps of handwritten digits from a preprinted form. From a\n",
            "total of 43 people, 30 contributed to the training set and different 13\n",
            "to the test set. 32x32 bitmaps are divided into nonoverlapping blocks of\n",
            "4x4 and the number of on pixels are counted in each block. This generates\n",
            "an input matrix of 8x8 where each element is an integer in the range\n",
            "0..16. This reduces dimensionality and gives invariance to small\n",
            "distortions.\n",
            "\n",
            "For info on NIST preprocessing routines, see M. D. Garris, J. L. Blue, G.\n",
            "T. Candela, D. L. Dimmick, J. Geist, P. J. Grother, S. A. Janet, and C.\n",
            "L. Wilson, NIST Form-Based Handprint Recognition System, NISTIR 5469,\n",
            "1994.\n",
            "\n",
            ".. topic:: References\n",
            "\n",
            "  - C. Kaynak (1995) Methods of Combining Multiple Classifiers and Their\n",
            "    Applications to Handwritten Digit Recognition, MSc Thesis, Institute of\n",
            "    Graduate Studies in Science and Engineering, Bogazici University.\n",
            "  - E. Alpaydin, C. Kaynak (1998) Cascading Classifiers, Kybernetika.\n",
            "  - Ken Tang and Ponnuthurai N. Suganthan and Xi Yao and A. Kai Qin.\n",
            "    Linear dimensionalityreduction using relevance weighted LDA. School of\n",
            "    Electrical and Electronic Engineering Nanyang Technological University.\n",
            "    2005.\n",
            "  - Claudio Gentile. A New Approximate Maximal Margin Classification\n",
            "    Algorithm. NIPS. 2000.\n",
            "\n"
          ]
        }
      ]
    },
    {
      "cell_type": "code",
      "source": [
        "x = data.data #it holds all the features of data samples\n",
        "# print(x[0])\n",
        "print(x.shape)\n",
        "y = data.target # it holds the labels of each data samples at respective position\n",
        "print(y.shape)\n",
        "print(y)"
      ],
      "metadata": {
        "colab": {
          "base_uri": "https://localhost:8080/"
        },
        "id": "G2Gji-pAl8dm",
        "outputId": "aab4257f-1f6e-410f-84be-de59e4958833"
      },
      "execution_count": null,
      "outputs": [
        {
          "output_type": "stream",
          "name": "stdout",
          "text": [
            "(1797, 64)\n",
            "(1797,)\n",
            "[0 1 2 ... 8 9 8]\n"
          ]
        }
      ]
    },
    {
      "cell_type": "code",
      "source": [
        "# THERE ARE BECHMARK RATIO FOR DATA SPLITTING\n",
        "#60:40 OR 70:30 OR 80:20\n",
        "ratio = 0.3\n",
        "Xtrain,Xtest,Ytrain,Ytest = model_selection.train_test_split(x,y,test_size = ratio,random_state = 5)\n",
        "print(\"Training dataset\")\n",
        "print(Xtrain.shape,Ytrain.shape)\n",
        "print(\"\\nTesting dataset :\\n\")\n",
        "print(Xtest.shape,Ytest.shape)"
      ],
      "metadata": {
        "colab": {
          "base_uri": "https://localhost:8080/"
        },
        "collapsed": true,
        "id": "OU07Owb-rjLD",
        "outputId": "9289240b-c62b-4eae-adb6-6bbb3b742ca3"
      },
      "execution_count": null,
      "outputs": [
        {
          "output_type": "stream",
          "name": "stdout",
          "text": [
            "Training dataset\n",
            "(1257, 64) (1257,)\n",
            "\n",
            "Testing dataset :\n",
            "\n",
            "(540, 64) (540,)\n"
          ]
        }
      ]
    },
    {
      "cell_type": "code",
      "source": [
        "images = data.images\n",
        "print(type(images))\n",
        "print(images.shape)\n",
        "print(images)"
      ],
      "metadata": {
        "colab": {
          "base_uri": "https://localhost:8080/"
        },
        "collapsed": true,
        "id": "_VpFhGRUs967",
        "outputId": "bfb8c6a2-2b7a-4bf8-e4cc-a85d00586641"
      },
      "execution_count": null,
      "outputs": [
        {
          "output_type": "stream",
          "name": "stdout",
          "text": [
            "<class 'numpy.ndarray'>\n",
            "(1797, 8, 8)\n",
            "[[[ 0.  0.  5. ...  1.  0.  0.]\n",
            "  [ 0.  0. 13. ... 15.  5.  0.]\n",
            "  [ 0.  3. 15. ... 11.  8.  0.]\n",
            "  ...\n",
            "  [ 0.  4. 11. ... 12.  7.  0.]\n",
            "  [ 0.  2. 14. ... 12.  0.  0.]\n",
            "  [ 0.  0.  6. ...  0.  0.  0.]]\n",
            "\n",
            " [[ 0.  0.  0. ...  5.  0.  0.]\n",
            "  [ 0.  0.  0. ...  9.  0.  0.]\n",
            "  [ 0.  0.  3. ...  6.  0.  0.]\n",
            "  ...\n",
            "  [ 0.  0.  1. ...  6.  0.  0.]\n",
            "  [ 0.  0.  1. ...  6.  0.  0.]\n",
            "  [ 0.  0.  0. ... 10.  0.  0.]]\n",
            "\n",
            " [[ 0.  0.  0. ... 12.  0.  0.]\n",
            "  [ 0.  0.  3. ... 14.  0.  0.]\n",
            "  [ 0.  0.  8. ... 16.  0.  0.]\n",
            "  ...\n",
            "  [ 0.  9. 16. ...  0.  0.  0.]\n",
            "  [ 0.  3. 13. ... 11.  5.  0.]\n",
            "  [ 0.  0.  0. ... 16.  9.  0.]]\n",
            "\n",
            " ...\n",
            "\n",
            " [[ 0.  0.  1. ...  1.  0.  0.]\n",
            "  [ 0.  0. 13. ...  2.  1.  0.]\n",
            "  [ 0.  0. 16. ... 16.  5.  0.]\n",
            "  ...\n",
            "  [ 0.  0. 16. ... 15.  0.  0.]\n",
            "  [ 0.  0. 15. ... 16.  0.  0.]\n",
            "  [ 0.  0.  2. ...  6.  0.  0.]]\n",
            "\n",
            " [[ 0.  0.  2. ...  0.  0.  0.]\n",
            "  [ 0.  0. 14. ... 15.  1.  0.]\n",
            "  [ 0.  4. 16. ... 16.  7.  0.]\n",
            "  ...\n",
            "  [ 0.  0.  0. ... 16.  2.  0.]\n",
            "  [ 0.  0.  4. ... 16.  2.  0.]\n",
            "  [ 0.  0.  5. ... 12.  0.  0.]]\n",
            "\n",
            " [[ 0.  0. 10. ...  1.  0.  0.]\n",
            "  [ 0.  2. 16. ...  1.  0.  0.]\n",
            "  [ 0.  0. 15. ... 15.  0.  0.]\n",
            "  ...\n",
            "  [ 0.  4. 16. ... 16.  6.  0.]\n",
            "  [ 0.  8. 16. ... 16.  8.  0.]\n",
            "  [ 0.  1.  8. ... 12.  1.  0.]]]\n"
          ]
        }
      ]
    },
    {
      "cell_type": "code",
      "source": [
        "# import matplotlib.image as mimg\n",
        "import matplotlib.pyplot as plt\n",
        "import numpy as np\n",
        "import pandas as pd\n",
        "plt.figure(1,(16,16))\n",
        "num=10\n",
        "col = 10\n",
        "np.random.seed(1)\n",
        "# 1797,64 here y = data.target\n",
        "for i in range(10):\n",
        "  for j in range(10):\n",
        "    plt.subplot(num,col,i*10)\n"
      ],
      "metadata": {
        "colab": {
          "base_uri": "https://localhost:8080/",
          "height": 1000
        },
        "id": "41dHehXitHke",
        "outputId": "a075578b-c4cd-4c52-9a86-96088cf5ba8a"
      },
      "execution_count": null,
      "outputs": [
        {
          "output_type": "display_data",
          "data": {
            "text/plain": [
              "<Figure size 1600x1600 with 49 Axes>"
            ],
            "image/png": "[encoded data removed]"
          },
          "metadata": {}
        }
      ]
    },
    {
      "cell_type": "code",
      "source": [
        "#support vector machine\n",
        "clf_model = svm.SVC() #classification model\n",
        "print(Xtrain,Ytrain)\n"
      ],
      "metadata": {
        "colab": {
          "base_uri": "https://localhost:8080/"
        },
        "id": "UA_tsXJywRGR",
        "outputId": "fa76a911-d4ec-49c1-8378-a114302e5a1c"
      },
      "execution_count": null,
      "outputs": [
        {
          "output_type": "stream",
          "name": "stdout",
          "text": [
            "[[ 0.  3. 10. ...  0.  0.  0.]\n",
            " [ 0.  0.  1. ... 15.  5.  0.]\n",
            " [ 0.  0. 10. ...  9.  0.  0.]\n",
            " ...\n",
            " [ 0.  0.  1. ...  6.  0.  0.]\n",
            " [ 0.  0. 10. ...  1.  0.  0.]\n",
            " [ 0.  0. 10. ... 10.  0.  0.]] [5 2 3 ... 6 8 3]\n"
          ]
        }
      ]
    },
    {
      "cell_type": "code",
      "source": [
        "# THERE ARE BECHMARK RATIO FOR DATA SPLITTING\n",
        "#60:40 OR 70:30 OR 80:20\n",
        "ratio = 0.3\n",
        "Xtrain,Xtest,Ytrain,Ytest = model_selection.train_test_split(x,y,test_size = ratio,random_state = 5)\n",
        "print(\"Training dataset\")\n",
        "print(Xtrain.shape,Ytrain.shape)\n",
        "print(\"\\nTesting dataset :\\n\")\n",
        "print(Xtest.shape,Ytest.shape)"
      ],
      "metadata": {
        "colab": {
          "base_uri": "https://localhost:8080/"
        },
        "id": "FiV-1Ghs17XU",
        "outputId": "01053db7-dc4c-4e00-f94e-ed74a55554a3"
      },
      "execution_count": null,
      "outputs": [
        {
          "output_type": "stream",
          "name": "stdout",
          "text": [
            "Training dataset\n",
            "(1257, 64) (1257,)\n",
            "\n",
            "Testing dataset :\n",
            "\n",
            "(540, 64) (540,)\n"
          ]
        }
      ]
    },
    {
      "cell_type": "code",
      "source": [
        "# create the classification model\n",
        "# ( Support vector machine) (SVM)\n",
        "\n",
        "clf_model = svm.SVC() # classification model\n",
        "\n",
        "# train the model using the trianing data (Xtrain) and its respective labels (ytrain)\n",
        "clf_model = clf_model.fit(Xtrain,Ytrain)\n",
        "\n",
        "\n",
        "# predict the labels of the testing dataset\n",
        "# pass the test data (Xtest) in the trained model\n",
        "ypred = clf_model.predict(Xtest)\n",
        "\n",
        "\n",
        "print(ypred.shape)\n",
        "print(Ytest.shape)"
      ],
      "metadata": {
        "colab": {
          "base_uri": "https://localhost:8080/"
        },
        "id": "Zb6dapAo_tQd",
        "outputId": "b0dfde7e-1e0c-4aa8-bbe0-2434ef48e66d"
      },
      "execution_count": null,
      "outputs": [
        {
          "output_type": "stream",
          "name": "stdout",
          "text": [
            "(540,)\n",
            "(540,)\n"
          ]
        }
      ]
    },
    {
      "cell_type": "code",
      "source": [
        "# evaluate the performance of the model\n",
        "# in all metrics function you have to pass , predicted and actual outputs\n",
        "acc = metrics.accuracy_score(ypred,Ytest)\n",
        "\n",
        "conf_matrix = metrics.confusion_matrix(ypred,Ytest)\n",
        "\n",
        "report = metrics.classification_report(ypred,Ytest)\n",
        "\n",
        "print('Accuracy of the system: ', acc)\n",
        "print(' Confusion matrix of the model ')\n",
        "print(conf_matrix)\n",
        "print(\"Complete report \")\n",
        "print(report)"
      ],
      "metadata": {
        "colab": {
          "base_uri": "https://localhost:8080/"
        },
        "id": "B0v2eKsE_72A",
        "outputId": "e5a35712-4a89-496d-fd72-6d9be201cae3"
      },
      "execution_count": null,
      "outputs": [
        {
          "output_type": "stream",
          "name": "stdout",
          "text": [
            "Accuracy of the system:  0.9851851851851852\n",
            " Confusion matrix of the model \n",
            "[[58  0  0  0  0  0  0  0  0  0]\n",
            " [ 0 52  0  0  0  0  0  0  1  0]\n",
            " [ 0  0 58  0  0  0  0  0  0  0]\n",
            " [ 0  0  0 57  0  0  0  0  0  0]\n",
            " [ 0  0  0  0 43  0  0  0  0  0]\n",
            " [ 0  0  0  1  0 63  0  0  0  1]\n",
            " [ 0  0  0  0  0  0 47  0  0  0]\n",
            " [ 0  0  0  0  0  0  0 58  0  0]\n",
            " [ 0  0  0  1  0  0  0  0 48  1]\n",
            " [ 0  0  0  0  0  1  0  1  1 48]]\n",
            "Complete report \n",
            "              precision    recall  f1-score   support\n",
            "\n",
            "           0       1.00      1.00      1.00        58\n",
            "           1       1.00      0.98      0.99        53\n",
            "           2       1.00      1.00      1.00        58\n",
            "           3       0.97      1.00      0.98        57\n",
            "           4       1.00      1.00      1.00        43\n",
            "           5       0.98      0.97      0.98        65\n",
            "           6       1.00      1.00      1.00        47\n",
            "           7       0.98      1.00      0.99        58\n",
            "           8       0.96      0.96      0.96        50\n",
            "           9       0.96      0.94      0.95        51\n",
            "\n",
            "    accuracy                           0.99       540\n",
            "   macro avg       0.99      0.99      0.99       540\n",
            "weighted avg       0.99      0.99      0.99       540\n",
            "\n"
          ]
        }
      ]
    },
    {
      "cell_type": "code",
      "source": [
        "import seaborn as sns\n",
        "plt.figure(1)\n",
        "sns.heatmap(conf_matrix,annot=True,cmap='jet')\n",
        "plt.title(\"Confusion matrix for digit dataset\")\n"
      ],
      "metadata": {
        "colab": {
          "base_uri": "https://localhost:8080/",
          "height": 470
        },
        "id": "fIk1_GlvACBq",
        "outputId": "8bb5af61-301a-4072-8599-11fe23a254f2"
      },
      "execution_count": null,
      "outputs": [
        {
          "output_type": "execute_result",
          "data": {
            "text/plain": [
              "Text(0.5, 1.0, 'Confusion matrix for digit dataset')"
            ]
          },
          "metadata": {},
          "execution_count": 43
        },
        {
          "output_type": "display_data",
          "data": {
            "text/plain": [
              "<Figure size 640x480 with 2 Axes>"
            ],
            "image/png": "[encoded data removed]"
          },
          "metadata": {}
        }
      ]
    },
    {
      "cell_type": "code",
      "source": [
        "# load the iris dataset\n",
        "# understand the datset from its DESCR\n",
        "# and implement the 60:40 and 70:30 ratio train test split\n",
        "# and compare its acc, precision, recall and f1_score\n",
        "# for each split\n",
        "\n"
      ],
      "metadata": {
        "id": "liRWRznwAE_Q"
      },
      "execution_count": null,
      "outputs": []
    },
    {
      "cell_type": "code",
      "source": [
        "idata = datasets.load_iris()\n",
        "X = idata.data\n",
        "y = idata.target\n",
        "ratio = [0.7,0.3]\n"
      ],
      "metadata": {
        "id": "A3qmTGkaAHvw"
      },
      "execution_count": null,
      "outputs": []
    },
    {
      "cell_type": "code",
      "source": [
        "Result = np.zeros((2,4))\n",
        "for i in range(len(ratio)):\n",
        "  Xtrain,Xtest,ytrain,ytest = model_selection.train_test_split(X,y,test_size=ratio[i],random_state=5)\n",
        "  # create the model\n",
        "  clf_model = svm.SVC()\n",
        "  # train the model\n",
        "  clf_model = clf_model.fit(Xtrain,ytrain)\n",
        "  # test the model\n",
        "  ypred = clf_model.predict(Xtest)\n",
        "  temp_acc = metrics.accuracy_score(ypred,ytest)\n",
        "  # precision\n",
        "  temp_pre = metrics.precision_score(ypred,ytest,average='macro')\n",
        "  # recall\n",
        "  temp_rec = metrics.recall_score(ypred,ytest,average='macro')\n",
        "  # f1 score\n",
        "  temp_f1 = metrics.f1_score(ypred,ytest,average='macro')\n",
        "\n",
        "  list_result = [temp_acc,temp_pre,temp_rec,temp_f1]\n",
        "  Result[i,:]=list_result\n",
        "import pandas as pd\n",
        "print(Result)\n",
        "res_df = pd.DataFrame(Result,columns=res,index=['60:40','70:30'])\n",
        "print(res_df)"
      ],
      "metadata": {
        "colab": {
          "base_uri": "https://localhost:8080/"
        },
        "id": "vi5s7lxyAU7h",
        "outputId": "e0743a22-d553-4b6a-ed5b-b5a8c833dd64"
      },
      "execution_count": null,
      "outputs": [
        {
          "output_type": "stream",
          "name": "stdout",
          "text": [
            "[[0.96190476 0.96581197 0.96296296 0.96237414]\n",
            " [0.97777778 0.97916667 0.97777778 0.97775306]]\n",
            "       Accuracy  Precision    Recall  F1_score\n",
            "60:40  0.961905   0.965812  0.962963  0.962374\n",
            "70:30  0.977778   0.979167  0.977778  0.977753\n"
          ]
        }
      ]
    },
    {
      "cell_type": "code",
      "source": [
        "res_df.T.plot(kind = 'bar')"
      ],
      "metadata": {
        "colab": {
          "base_uri": "https://localhost:8080/",
          "height": 497
        },
        "id": "9geJi1BeA--x",
        "outputId": "c66d693d-3b0a-47e0-9ffb-4245253c68ae"
      },
      "execution_count": null,
      "outputs": [
        {
          "output_type": "execute_result",
          "data": {
            "text/plain": [
              "<Axes: >"
            ]
          },
          "metadata": {},
          "execution_count": 60
        },
        {
          "output_type": "display_data",
          "data": {
            "text/plain": [
              "<Figure size 640x480 with 1 Axes>"
            ],
            "image/png": "[encoded data removed]"
          },
          "metadata": {}
        }
      ]
    },
    {
      "cell_type": "code",
      "source": [],
      "metadata": {
        "id": "SeQy88BUCgMg"
      },
      "execution_count": null,
      "outputs": []
    }
  ]
}